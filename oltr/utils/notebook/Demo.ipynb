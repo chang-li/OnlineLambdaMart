{
 "cells": [
  {
   "cell_type": "code",
   "execution_count": 7,
   "metadata": {},
   "outputs": [
    {
     "data": {
      "application/javascript": [
       "IPython.notebook.set_autosave_interval(0)"
      ]
     },
     "metadata": {},
     "output_type": "display_data"
    },
    {
     "name": "stdout",
     "output_type": "stream",
     "text": [
      "Autosave disabled\n"
     ]
    }
   ],
   "source": [
    "import sys\n",
    "sys.path.insert(0, '../')\n",
    "sys.path.insert(0, '../../')\n",
    "\n",
    "import numpy as np\n",
    "import os\n",
    "import timeit\n",
    "%autosave 0"
   ]
  },
  {
   "cell_type": "code",
   "execution_count": 2,
   "metadata": {},
   "outputs": [],
   "source": [
    "from queries import Queries\n",
    "from queries import concatenate\n",
    "from queries import find_constant_features\n",
    "from click_simulator import DependentClickModel"
   ]
  },
  {
   "cell_type": "code",
   "execution_count": 9,
   "metadata": {},
   "outputs": [],
   "source": [
    "# Load Queries\n",
    "queries_list = []\n",
    "for name in ['train.txt', 'test.txt', 'vali.txt']:\n",
    "    data_dir = '../../datasets/MSLR10K/Fold1/' + name\n",
    "    queries = Queries.load_from_text(data_dir)\n",
    "    cls = find_constant_features(queries)\n",
    "    queries.adjust(remove_features=cls, purge=True, scale=True)\n",
    "    queries.save(data_dir[:-3]+'dat')\n",
    "    queries_list.append(queries)\n",
    "query_all = concatenate(queries_list)\n",
    "query_all.save('../../datasets/MSLR10K.dat')"
   ]
  },
  {
   "cell_type": "code",
   "execution_count": 4,
   "metadata": {},
   "outputs": [],
   "source": [
    "data_dir = '../../../datasets/MSLR10K.dat'\n",
    "queries = Queries.load(data_dir)"
   ]
  },
  {
   "cell_type": "code",
   "execution_count": 11,
   "metadata": {
    "collapsed": true
   },
   "outputs": [],
   "source": [
    "simulator = DependentClickModel('perfect')"
   ]
  },
  {
   "cell_type": "code",
   "execution_count": 12,
   "metadata": {},
   "outputs": [
    {
     "name": "stdout",
     "output_type": "stream",
     "text": [
      "running time of 100000 sessions: 68.644067\n",
      "number of clicks: 96598\n",
      "number of docs: 12403485\n"
     ]
    }
   ],
   "source": [
    "start = timeit.default_timer()\n",
    "n_clicks = 0\n",
    "n_docs = 0\n",
    "iteration = int(1e5)\n",
    "for i in range(iteration):\n",
    "    query = queries[np.random.choice(len(queries))]\n",
    "    while query.document_count() < 10 or query.relevance_scores.max() == 0:\n",
    "        query = queries[np.random.choice(len(queries))]\n",
    "    y =  query.relevance_scores[np.random.permutation(query.document_count())]\n",
    "    click = simulator.get_click(y)\n",
    "    n_clicks += sum(click)\n",
    "    n_docs += len(click)\n",
    "\n",
    "print(\"running time of %d sessions: %f\" %(iteration, timeit.default_timer()-start))\n",
    "print(\"number of clicks: %d\" % n_clicks)\n",
    "print(\"number of docs: %d\" % n_docs)"
   ]
  },
  {
   "cell_type": "code",
   "execution_count": null,
   "metadata": {
    "collapsed": true
   },
   "outputs": [],
   "source": [
    "import "
   ]
  },
  {
   "cell_type": "code",
   "execution_count": 6,
   "metadata": {},
   "outputs": [
    {
     "data": {
      "text/plain": [
       "array([     0,     93,    151, ..., 233660, 233730, 233811], dtype=int32)"
      ]
     },
     "execution_count": 6,
     "metadata": {},
     "output_type": "execute_result"
    }
   ],
   "source": [
    "queries.query_indptr"
   ]
  },
  {
   "cell_type": "code",
   "execution_count": null,
   "metadata": {},
   "outputs": [],
   "source": []
  },
  {
   "cell_type": "code",
   "execution_count": null,
   "metadata": {},
   "outputs": [],
   "source": []
  }
 ],
 "metadata": {
  "kernelspec": {
   "display_name": "Python 3",
   "language": "python",
   "name": "python3"
  },
  "language_info": {
   "codemirror_mode": {
    "name": "ipython",
    "version": 3
   },
   "file_extension": ".py",
   "mimetype": "text/x-python",
   "name": "python",
   "nbconvert_exporter": "python",
   "pygments_lexer": "ipython3",
   "version": "3.7.2"
  }
 },
 "nbformat": 4,
 "nbformat_minor": 2
}
