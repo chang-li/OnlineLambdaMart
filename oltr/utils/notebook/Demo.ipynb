{
 "cells": [
  {
   "cell_type": "code",
   "execution_count": 1,
   "metadata": {},
   "outputs": [
    {
     "data": {
      "application/javascript": [
       "IPython.notebook.set_autosave_interval(0)"
      ]
     },
     "metadata": {},
     "output_type": "display_data"
    },
    {
     "name": "stdout",
     "output_type": "stream",
     "text": [
      "Autosave disabled\n"
     ]
    }
   ],
   "source": [
    "import sys\n",
    "sys.path.insert(0, '../')\n",
    "sys.path.insert(0, '../../')\n",
    "\n",
    "import numpy as np\n",
    "import os\n",
    "import timeit\n",
    "%autosave 0"
   ]
  },
  {
   "cell_type": "code",
   "execution_count": 2,
   "metadata": {},
   "outputs": [],
   "source": [
    "from queries import Queries\n",
    "from queries import concatenate\n",
    "from queries import find_constant_features\n",
    "from click_simulator import DependentClickModel"
   ]
  },
  {
   "cell_type": "code",
   "execution_count": 9,
   "metadata": {},
   "outputs": [],
   "source": [
    "# Load Queries\n",
    "queries_list = []\n",
    "for name in ['train.txt', 'test.txt', 'vali.txt']:\n",
    "    data_dir = '../../datasets/MSLR10K/Fold1/' + name\n",
    "    queries = Queries.load_from_text(data_dir)\n",
    "    cls = find_constant_features(queries)\n",
    "    queries.adjust(remove_features=cls, purge=True, scale=True)\n",
    "    queries.save(data_dir[:-3]+'dat')\n",
    "    queries_list.append(queries)\n",
    "query_all = concatenate(queries_list)\n",
    "query_all.save('../../datasets/MSLR10K.dat')"
   ]
  },
  {
   "cell_type": "code",
   "execution_count": 28,
   "metadata": {},
   "outputs": [],
   "source": [
    "data_dir = '../../../datasets/MSLR10K.dat'\n",
    "queries = Queries.load(data_dir)"
   ]
  },
  {
   "cell_type": "code",
   "execution_count": 11,
   "metadata": {
    "collapsed": true
   },
   "outputs": [],
   "source": [
    "simulator = DependentClickModel('perfect')"
   ]
  },
  {
   "cell_type": "code",
   "execution_count": 12,
   "metadata": {},
   "outputs": [
    {
     "name": "stdout",
     "output_type": "stream",
     "text": [
      "running time of 100000 sessions: 68.644067\n",
      "number of clicks: 96598\n",
      "number of docs: 12403485\n"
     ]
    }
   ],
   "source": [
    "start = timeit.default_timer()\n",
    "n_clicks = 0\n",
    "n_docs = 0\n",
    "iteration = int(1e5)\n",
    "for i in range(iteration):\n",
    "    query = queries[np.random.choice(len(queries))]\n",
    "    while query.document_count() < 10 or query.relevance_scores.max() == 0:\n",
    "        query = queries[np.random.choice(len(queries))]\n",
    "    y =  query.relevance_scores[np.random.permutation(query.document_count())]\n",
    "    click = simulator.get_click(y)\n",
    "    n_clicks += sum(click)\n",
    "    n_docs += len(click)\n",
    "\n",
    "print(\"running time of %d sessions: %f\" %(iteration, timeit.default_timer()-start))\n",
    "print(\"number of clicks: %d\" % n_clicks)\n",
    "print(\"number of docs: %d\" % n_docs)"
   ]
  },
  {
   "cell_type": "code",
   "execution_count": 16,
   "metadata": {},
   "outputs": [
    {
     "name": "stderr",
     "output_type": "stream",
     "text": [
      "/Users/lichang/Documents/Repositories/OnlineDiverseLTR/venv/lib/python3.7/site-packages/lightgbm/__init__.py:48: UserWarning: Starting from version 2.2.1, the library file in distribution wheels for macOS is built by the Apple Clang (Xcode_8.3.3) compiler.\n",
      "This means that in case of installing LightGBM from PyPI via the ``pip install lightgbm`` command, you don't need to install the gcc compiler anymore.\n",
      "Instead of that, you need to install the OpenMP library, which is required for running LightGBM on the system with the Apple Clang compiler.\n",
      "You can install the OpenMP library by the following command: ``brew install libomp``.\n",
      "  \"You can install the OpenMP library by the following command: ``brew install libomp``.\", UserWarning)\n"
     ]
    }
   ],
   "source": [
    "import lightgbm as gbm"
   ]
  },
  {
   "cell_type": "code",
   "execution_count": 19,
   "metadata": {},
   "outputs": [],
   "source": [
    "t_query = queries[:2]\n",
    "v_query = queries[2:4]"
   ]
  },
  {
   "cell_type": "code",
   "execution_count": 36,
   "metadata": {},
   "outputs": [],
   "source": [
    "ranker_params = {\n",
    "    'min_child_samples': 50,\n",
    "    'min_child_weight': 0,\n",
    "    'n_estimators': 500,\n",
    "    'learning_rate': 0.02,\n",
    "    'num_leaves': 400,\n",
    "    'boosting_type': 'gbdt',\n",
    "    'objective': 'lambdarank'\n",
    "}\n",
    "fit_params = {\n",
    "    'early_stopping_rounds': 50,\n",
    "    'eval_metric': 'ndcg',\n",
    "    'eval_at': 5,\n",
    "    'verbose': 5,\n",
    "}\n"
   ]
  },
  {
   "cell_type": "code",
   "execution_count": 32,
   "metadata": {},
   "outputs": [],
   "source": [
    "train_features = t_query.feature_vectors\n",
    "train_labels = t_query.relevance_scores\n",
    "train_qid = np.diff(t_query.query_indptr)\n",
    "valid_features = v_query.feature_vectors\n",
    "valid_labels = v_query.relevance_scores\n",
    "valid_qid = np.diff(v_query.query_indptr)"
   ]
  },
  {
   "cell_type": "code",
   "execution_count": 33,
   "metadata": {},
   "outputs": [
    {
     "data": {
      "text/plain": [
       "(151, 136)"
      ]
     },
     "execution_count": 33,
     "metadata": {},
     "output_type": "execute_result"
    }
   ],
   "source": [
    "train_features.shape"
   ]
  },
  {
   "cell_type": "code",
   "execution_count": 34,
   "metadata": {},
   "outputs": [
    {
     "data": {
      "text/plain": [
       "array([93, 58], dtype=int32)"
      ]
     },
     "execution_count": 34,
     "metadata": {},
     "output_type": "execute_result"
    }
   ],
   "source": [
    "train_qid"
   ]
  },
  {
   "cell_type": "code",
   "execution_count": 44,
   "metadata": {},
   "outputs": [
    {
     "name": "stdout",
     "output_type": "stream",
     "text": [
      "Training until validation scores don't improve for 50 rounds\n",
      "[5]\tvalid_0's ndcg@5: 0.267772\n",
      "[10]\tvalid_0's ndcg@5: 0.326724\n",
      "[15]\tvalid_0's ndcg@5: 0.35787\n",
      "[20]\tvalid_0's ndcg@5: 0.27023\n",
      "[25]\tvalid_0's ndcg@5: 0.27023\n",
      "[30]\tvalid_0's ndcg@5: 0.27023\n",
      "[35]\tvalid_0's ndcg@5: 0.27023\n",
      "[40]\tvalid_0's ndcg@5: 0.27023\n",
      "[45]\tvalid_0's ndcg@5: 0.27023\n",
      "[50]\tvalid_0's ndcg@5: 0.27023\n",
      "Early stopping, best iteration is:\n",
      "[1]\tvalid_0's ndcg@5: 0.5455\n"
     ]
    },
    {
     "data": {
      "text/plain": [
       "LGBMRanker(boosting_type='gbdt', class_weight=None, colsample_bytree=1.0,\n",
       "           importance_type='split', learning_rate=0.02, max_depth=-1,\n",
       "           min_child_samples=50, min_child_weight=0, min_split_gain=0.0,\n",
       "           n_estimators=500, n_jobs=-1, num_leaves=400, objective='lambdarank',\n",
       "           random_state=None, reg_alpha=0.0, reg_lambda=0.0, silent=True,\n",
       "           subsample=1.0, subsample_for_bin=200000, subsample_freq=0)"
      ]
     },
     "execution_count": 44,
     "metadata": {},
     "output_type": "execute_result"
    }
   ],
   "source": [
    "ranker = gbm.LGBMRanker(**ranker_params)\n",
    "ranker.fit(X=train_features, y=train_labels, group=train_qid,\n",
    "           eval_set=[(valid_features, valid_labels)], eval_group=[valid_qid],\n",
    "           **fit_params)"
   ]
  },
  {
   "cell_type": "code",
   "execution_count": null,
   "metadata": {},
   "outputs": [],
   "source": []
  }
 ],
 "metadata": {
  "kernelspec": {
   "display_name": "Python 3",
   "language": "python",
   "name": "python3"
  },
  "language_info": {
   "codemirror_mode": {
    "name": "ipython",
    "version": 3
   },
   "file_extension": ".py",
   "mimetype": "text/x-python",
   "name": "python",
   "nbconvert_exporter": "python",
   "pygments_lexer": "ipython3",
   "version": "3.7.2"
  }
 },
 "nbformat": 4,
 "nbformat_minor": 2
}
