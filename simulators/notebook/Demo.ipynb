{
 "cells": [
  {
   "cell_type": "code",
   "execution_count": 3,
   "metadata": {
    "collapsed": true
   },
   "outputs": [],
   "source": [
    "import sys\n",
    "sys.path.insert(0, '../')\n",
    "\n",
    "import numpy as np\n",
    "import os\n",
    "import timeit\n"
   ]
  },
  {
   "cell_type": "code",
   "execution_count": 14,
   "metadata": {
    "collapsed": false
   },
   "outputs": [],
   "source": [
    "from queries import Queries\n",
    "from queries import concatenate\n",
    "from queries import find_constant_features\n",
    "from click_simulator import CascadeModel"
   ]
  },
  {
   "cell_type": "code",
   "execution_count": 10,
   "metadata": {
    "collapsed": false
   },
   "outputs": [],
   "source": [
    "# Load Queries\n",
    "queries_list = []\n",
    "for name in ['train.txt', 'test.txt', 'vali.txt']:\n",
    "    data_dir = '../../datasets/MSLR10K/Fold1/' + name\n",
    "    queries = Queries.load_from_text(data_dir)\n",
    "    cls = find_constant_features(queries)\n",
    "    queries.adjust(remove_features=cls, purge=True, scale=True)\n",
    "    queries.save(data_dir[:-3]+'dat')\n",
    "    queries_list.append(queries)\n",
    "query_all = concatenate(queries_list)\n",
    "query_all.save('../../datasets/MSLR10K.dat')"
   ]
  },
  {
   "cell_type": "code",
   "execution_count": 12,
   "metadata": {
    "collapsed": false
   },
   "outputs": [
    {
     "data": {
      "text/plain": [
       "'../../datasets/MSLR10K/Fold1/test.'"
      ]
     },
     "execution_count": 12,
     "metadata": {},
     "output_type": "execute_result"
    }
   ],
   "source": [
    "data_dir = '../../datasets/MSLR10K.dat'\n",
    "queries = Queries.load_from_text(data_dir)"
   ]
  },
  {
   "cell_type": "code",
   "execution_count": 17,
   "metadata": {
    "collapsed": true
   },
   "outputs": [],
   "source": [
    "simulator = CascadeModel('perfect')"
   ]
  },
  {
   "cell_type": "code",
   "execution_count": 20,
   "metadata": {
    "collapsed": false
   },
   "outputs": [
    {
     "name": "stdout",
     "output_type": "stream",
     "text": [
      "running time of 10000 sessions: 3.089127\n",
      "number of clicks: 7130\n",
      "number of docs: 10000\n"
     ]
    }
   ],
   "source": [
    "start = timeit.default_timer()\n",
    "n_clicks = 0\n",
    "n_docs = 0\n",
    "iteration = int(1e4)\n",
    "for i in range(iteration):\n",
    "    query = queries[np.random.choice(len(queries))]\n",
    "    while query.document_count < 10 or query.relevance_scores.max() == 0:\n",
    "        print(1)\n",
    "        query = queries[np.random.choice(len(queries))]\n",
    "    y =  query.relevance_scores[np.random.permutation(len(query))]\n",
    "    click = simulator.get_click(y)\n",
    "    n_clicks += sum(click)\n",
    "    n_docs += len(click)\n",
    "\n",
    "print(\"running time of %d sessions: %f\" %(iteration, timeit.default_timer()-start))\n",
    "print(\"number of clicks: %d\" % n_clicks)\n",
    "print(\"number of docs: %d\" % n_docs)"
   ]
  }
 ],
 "metadata": {
  "kernelspec": {
   "display_name": "Python 2",
   "language": "python",
   "name": "python2"
  },
  "language_info": {
   "codemirror_mode": {
    "name": "ipython",
    "version": 2
   },
   "file_extension": ".py",
   "mimetype": "text/x-python",
   "name": "python",
   "nbconvert_exporter": "python",
   "pygments_lexer": "ipython2",
   "version": "2.7.12"
  }
 },
 "nbformat": 4,
 "nbformat_minor": 2
}
