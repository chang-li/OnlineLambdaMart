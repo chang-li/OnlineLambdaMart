{
 "cells": [
  {
   "cell_type": "code",
   "execution_count": 1,
   "metadata": {
    "collapsed": true
   },
   "outputs": [],
   "source": [
    "import sys\n",
    "sys.path.insert(0, '../')\n",
    "\n",
    "import numpy as np\n",
    "import os\n",
    "import timeit\n"
   ]
  },
  {
   "cell_type": "code",
   "execution_count": 2,
   "metadata": {
    "collapsed": false
   },
   "outputs": [],
   "source": [
    "from queries import Queries\n",
    "from queries import concatenate\n",
    "from queries import find_constant_features\n",
    "from click_simulator import CascadeModel"
   ]
  },
  {
   "cell_type": "code",
   "execution_count": 9,
   "metadata": {
    "collapsed": false
   },
   "outputs": [],
   "source": [
    "# Load Queries\n",
    "queries_list = []\n",
    "for name in ['train.txt', 'test.txt', 'vali.txt']:\n",
    "    data_dir = '../../datasets/MSLR10K/Fold1/' + name\n",
    "    queries = Queries.load_from_text(data_dir)\n",
    "    cls = find_constant_features(queries)\n",
    "    queries.adjust(remove_features=cls, purge=True, scale=True)\n",
    "    queries.save(data_dir[:-3]+'dat')\n",
    "    queries_list.append(queries)\n",
    "query_all = concatenate(queries_list)\n",
    "query_all.save('../../datasets/MSLR10K.dat')"
   ]
  },
  {
   "cell_type": "code",
   "execution_count": 10,
   "metadata": {
    "collapsed": false
   },
   "outputs": [],
   "source": [
    "data_dir = '../../datasets/MSLR10K.dat'\n",
    "queries = Queries.load(data_dir)"
   ]
  },
  {
   "cell_type": "code",
   "execution_count": 11,
   "metadata": {
    "collapsed": true
   },
   "outputs": [],
   "source": [
    "simulator = CascadeModel('perfect')"
   ]
  },
  {
   "cell_type": "code",
   "execution_count": 12,
   "metadata": {
    "collapsed": false
   },
   "outputs": [
    {
     "name": "stdout",
     "output_type": "stream",
     "text": [
      "running time of 100000 sessions: 68.644067\n",
      "number of clicks: 96598\n",
      "number of docs: 12403485\n"
     ]
    }
   ],
   "source": [
    "start = timeit.default_timer()\n",
    "n_clicks = 0\n",
    "n_docs = 0\n",
    "iteration = int(1e5)\n",
    "for i in range(iteration):\n",
    "    query = queries[np.random.choice(len(queries))]\n",
    "    while query.document_count() < 10 or query.relevance_scores.max() == 0:\n",
    "        query = queries[np.random.choice(len(queries))]\n",
    "    y =  query.relevance_scores[np.random.permutation(query.document_count())]\n",
    "    click = simulator.get_click(y)\n",
    "    n_clicks += sum(click)\n",
    "    n_docs += len(click)\n",
    "\n",
    "print(\"running time of %d sessions: %f\" %(iteration, timeit.default_timer()-start))\n",
    "print(\"number of clicks: %d\" % n_clicks)\n",
    "print(\"number of docs: %d\" % n_docs)"
   ]
  },
  {
   "cell_type": "code",
   "execution_count": null,
   "metadata": {
    "collapsed": true
   },
   "outputs": [],
   "source": []
  }
 ],
 "metadata": {
  "kernelspec": {
   "display_name": "Python 2",
   "language": "python",
   "name": "python2"
  },
  "language_info": {
   "codemirror_mode": {
    "name": "ipython",
    "version": 2
   },
   "file_extension": ".py",
   "mimetype": "text/x-python",
   "name": "python",
   "nbconvert_exporter": "python",
   "pygments_lexer": "ipython2",
   "version": "2.7.12"
  }
 },
 "nbformat": 4,
 "nbformat_minor": 2
}
